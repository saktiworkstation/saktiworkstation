{
  "nbformat": 4,
  "nbformat_minor": 0,
  "metadata": {
    "colab": {
      "provenance": [],
      "authorship_tag": "ABX9TyNv4zIUBVdYk7l4C8ob3+aG",
      "include_colab_link": true
    },
    "kernelspec": {
      "name": "python3",
      "display_name": "Python 3"
    },
    "language_info": {
      "name": "python"
    }
  },
  "cells": [
    {
      "cell_type": "markdown",
      "metadata": {
        "id": "view-in-github",
        "colab_type": "text"
      },
      "source": [
        "<a href=\"https://colab.research.google.com/github/saktiworkstation/saktiworkstation/blob/main/22_11_4677_RDD_FlatMap.ipynb\" target=\"_parent\"><img src=\"https://colab.research.google.com/assets/colab-badge.svg\" alt=\"Open In Colab\"/></a>"
      ]
    },
    {
      "cell_type": "markdown",
      "source": [
        "# Sakti Kusuma Aji | 22.11.4677"
      ],
      "metadata": {
        "id": "UA3TgHmGdluE"
      }
    },
    {
      "cell_type": "code",
      "execution_count": null,
      "metadata": {
        "colab": {
          "base_uri": "https://localhost:8080/"
        },
        "id": "dNDcJNwGYiCo",
        "outputId": "42f81378-0845-4f94-9ede-eb854fd3c8e9"
      },
      "outputs": [
        {
          "output_type": "stream",
          "name": "stdout",
          "text": [
            "Requirement already satisfied: pyspark in /usr/local/lib/python3.10/dist-packages (3.5.3)\n",
            "Requirement already satisfied: py4j==0.10.9.7 in /usr/local/lib/python3.10/dist-packages (from pyspark) (0.10.9.7)\n"
          ]
        }
      ],
      "source": [
        "!pip install pyspark"
      ]
    },
    {
      "cell_type": "code",
      "source": [
        "from pyspark import SparkContext\n",
        "import matplotlib.pyplot as plt"
      ],
      "metadata": {
        "id": "KzrRtObLZKhO"
      },
      "execution_count": null,
      "outputs": []
    },
    {
      "cell_type": "code",
      "source": [
        "# Inisialisasi SparkContext\n",
        "sc = SparkContext(\"local\", \"Quiss milik sakti\")"
      ],
      "metadata": {
        "id": "4oYuyhgKZNY6"
      },
      "execution_count": null,
      "outputs": []
    },
    {
      "cell_type": "code",
      "source": [
        "# Membuat dataset sales_data.txt\n",
        "data = [\n",
        "    \"A,5\",\n",
        "    \"B,3\",\n",
        "    \"A,2\",\n",
        "    \"C,1\",\n",
        "    \"B,4\",\n",
        "    \"A,1\",\n",
        "    \"C,2\"\n",
        "]\n",
        "\n",
        "# Menyimpan dataset ke file sales_data.txt\n",
        "with open(\"sales_data.txt\", \"w\") as file:\n",
        "    for line in data:\n",
        "        file.write(line + \"\\n\")"
      ],
      "metadata": {
        "id": "lLhFc5HfcyIS"
      },
      "execution_count": null,
      "outputs": []
    },
    {
      "cell_type": "code",
      "source": [
        "# Membaca file sales_data.txt dan membuat RDD\n",
        "sales_rdd = sc.textFile(\"/content/sales_data.txt\")"
      ],
      "metadata": {
        "id": "cW5ge0OhZQwV"
      },
      "execution_count": null,
      "outputs": []
    },
    {
      "cell_type": "code",
      "source": [
        "# Menggunakan flatMap untuk mengubah menjadi Pair RDD\n",
        "def parse_line(line):\n",
        "    product_id, quantity = line.split(\",\")\n",
        "    return (product_id, int(quantity))\n",
        "\n",
        "pair_rdd = sales_rdd.flatMap(lambda line: [parse_line(line)])"
      ],
      "metadata": {
        "id": "HiJF4xiuZaZC"
      },
      "execution_count": null,
      "outputs": []
    },
    {
      "cell_type": "markdown",
      "source": [
        "# Penjelasan\n",
        "Pair RDD digunakan untuk menyimpan pasangan (key, value), di mana key adalah product_id dan value adalah quantity. Dalam proses ini, Pair RDD digunakan untuk mengelompokkan data berdasarkan product_id dan menghitung total quantity yang terjual."
      ],
      "metadata": {
        "id": "jfGmKhIAdJXS"
      }
    },
    {
      "cell_type": "code",
      "source": [
        "# Menggunakan reduceByKey untuk menghitung total quantity untuk setiap product_id\n",
        "total_quantity_rdd = pair_rdd.reduceByKey(lambda a, b: a + b)"
      ],
      "metadata": {
        "id": "zQ0zWlkzdPXl"
      },
      "execution_count": null,
      "outputs": []
    },
    {
      "cell_type": "code",
      "source": [
        "# Mengurutkan hasil berdasarkan total quantity dalam urutan menurun\n",
        "sorted_rdd = total_quantity_rdd.sortBy(lambda x: x[1], ascending=False)"
      ],
      "metadata": {
        "id": "ZaPOMQNEdTze"
      },
      "execution_count": null,
      "outputs": []
    },
    {
      "cell_type": "code",
      "source": [
        "# Menampilkan 5 produk teratas beserta total quantity yang terjual\n",
        "top_5_products = sorted_rdd.take(5)"
      ],
      "metadata": {
        "id": "thPYlZPDdTtt"
      },
      "execution_count": null,
      "outputs": []
    },
    {
      "cell_type": "code",
      "source": [
        "for product, quantity in top_5_products:\n",
        "    print(f\"Product ID: {product}, Total Quantity Sold: {quantity}\")"
      ],
      "metadata": {
        "colab": {
          "base_uri": "https://localhost:8080/"
        },
        "id": "APmqpPredXXK",
        "outputId": "4475dda3-7fcc-4a45-cb97-a31c78717d07"
      },
      "execution_count": null,
      "outputs": [
        {
          "output_type": "stream",
          "name": "stdout",
          "text": [
            "Product ID: A, Total Quantity Sold: 8\n",
            "Product ID: B, Total Quantity Sold: 7\n",
            "Product ID: C, Total Quantity Sold: 3\n"
          ]
        }
      ]
    },
    {
      "cell_type": "code",
      "source": [
        "# Plotting hasil\n",
        "products = [product for product, quantity in top_5_products]\n",
        "quantities = [quantity for product, quantity in top_5_products]\n",
        "\n",
        "plt.figure(figsize=(8, 4))\n",
        "plt.bar(products, quantities)\n",
        "plt.xlabel('Product ID')\n",
        "plt.ylabel('Total Quantity Sold')\n",
        "plt.title('Top 5 Products by Quantity Sold')\n",
        "plt.show()"
      ],
      "metadata": {
        "colab": {
          "base_uri": "https://localhost:8080/",
          "height": 410
        },
        "id": "sjYnZ0JPdgyl",
        "outputId": "600e5c49-f6d8-451c-9123-8f533f801614"
      },
      "execution_count": null,
      "outputs": [
        {
          "output_type": "display_data",
          "data": {
            "text/plain": [
              "<Figure size 800x400 with 1 Axes>"
            ],
            "image/png": "[encoded data removed]"
          },
          "metadata": {}
        }
      ]
    }
  ]
}